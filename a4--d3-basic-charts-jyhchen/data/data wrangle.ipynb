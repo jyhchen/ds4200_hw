{
 "cells": [
  {
   "cell_type": "code",
   "execution_count": 1,
   "id": "9c50b87f",
   "metadata": {},
   "outputs": [],
   "source": [
    "import pandas as pd"
   ]
  },
  {
   "cell_type": "code",
   "execution_count": 3,
   "id": "f9de6172",
   "metadata": {},
   "outputs": [],
   "source": [
    "lowther_df = pd.read_csv('675912_data.csv')"
   ]
  },
  {
   "cell_type": "code",
   "execution_count": 24,
   "id": "feaec88c",
   "metadata": {},
   "outputs": [],
   "source": [
    "#find velo by inning\n",
    "\n",
    "fastball_df = lowther_df.loc[lowther_df['pitch_type'] == 'FF']\n",
    "innings_dict = {}\n",
    "for inning in fastball_df['inning'].unique():\n",
    "    inning_df = fastball_df.loc[fastball_df['inning'] == inning]\n",
    "    avg_fb = inning_df['release_speed'].sum()/len(inning_df.index)\n",
    "    innings_dict[inning] = avg_fb\n",
    "avg_df = pd.DataFrame.from_dict(innings_dict, orient='index').reset_index().rename(columns= {'index': 'inning', 0: 'velo'})\n",
    "avg_df.to_csv('lowther_fb.csv')"
   ]
  },
  {
   "cell_type": "code",
   "execution_count": 39,
   "id": "18d2cef4",
   "metadata": {},
   "outputs": [],
   "source": [
    "#pitch type by inning\n",
    "pitch_df = pd.DataFrame()\n",
    "for date in lowther_df['game_date'].unique():\n",
    "    date_df = lowther_df.loc[lowther_df['game_date'] == date]\n",
    "    pitch_mix = {\n",
    "        'date': date,\n",
    "        'ff': len(date_df.loc[date_df['pitch_type'] == 'FF'].index),\n",
    "        'ch': len(date_df.loc[date_df['pitch_type'] == 'CH'].index),\n",
    "        'sl': len(date_df.loc[date_df['pitch_type'] == 'SL'].index),\n",
    "        'cu': len(date_df.loc[date_df['pitch_type'] == 'CU'].index),\n",
    "    }\n",
    "    pitch_df = pitch_df.append(pitch_mix, ignore_index=True)\n",
    "pitch_df.to_csv('lowther_mix.csv')"
   ]
  }
 ],
 "metadata": {
  "kernelspec": {
   "display_name": "Python 3",
   "language": "python",
   "name": "python3"
  },
  "language_info": {
   "codemirror_mode": {
    "name": "ipython",
    "version": 3
   },
   "file_extension": ".py",
   "mimetype": "text/x-python",
   "name": "python",
   "nbconvert_exporter": "python",
   "pygments_lexer": "ipython3",
   "version": "3.8.8"
  }
 },
 "nbformat": 4,
 "nbformat_minor": 5
}
